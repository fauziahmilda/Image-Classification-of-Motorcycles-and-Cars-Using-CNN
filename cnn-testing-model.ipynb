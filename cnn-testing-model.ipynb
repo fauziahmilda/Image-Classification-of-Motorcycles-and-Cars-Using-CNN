{
 "cells": [
  {
   "attachments": {},
   "cell_type": "markdown",
   "metadata": {},
   "source": [
    "Import Library"
   ]
  },
  {
   "cell_type": "code",
   "execution_count": 8,
   "metadata": {},
   "outputs": [],
   "source": [
    "import os\n",
    "import tensorflow as tf\n",
    "import numpy as np\n",
    "from keras.preprocessing.image import ImageDataGenerator\n",
    "from tensorflow.keras.preprocessing.image import load_img, img_to_array\n",
    "from keras.models import Sequential, load_model\n",
    "import time"
   ]
  },
  {
   "cell_type": "code",
   "execution_count": 9,
   "metadata": {},
   "outputs": [],
   "source": [
    "start = time.time()"
   ]
  },
  {
   "cell_type": "code",
   "execution_count": 10,
   "metadata": {},
   "outputs": [],
   "source": [
    "#Define Path\n",
    "model_path = './models/model.h5'\n",
    "model_weights_path = './models/weights.h5'\n",
    "test_path = 'data/test_image'"
   ]
  },
  {
   "cell_type": "code",
   "execution_count": 11,
   "metadata": {},
   "outputs": [],
   "source": [
    "#Load the pre-trained models\n",
    "model = load_model(model_path)\n",
    "model.load_weights(model_weights_path)"
   ]
  },
  {
   "cell_type": "code",
   "execution_count": 12,
   "metadata": {},
   "outputs": [],
   "source": [
    "#Define image parameters\n",
    "img_width, img_height = 150, 150"
   ]
  },
  {
   "cell_type": "code",
   "execution_count": 13,
   "metadata": {},
   "outputs": [],
   "source": [
    "#Prediction Function\n",
    "def predict(file):\n",
    "  x = load_img(file, target_size=(img_width,img_height))\n",
    "  x = img_to_array(x)\n",
    "  x = np.expand_dims(x, axis=0)\n",
    "  array = model.predict(x)\n",
    "  result = array[0]\n",
    "  #print(result)\n",
    "  answer = np.argmax(result)\n",
    "  if answer == 0:\n",
    "    print(\"Predicted: mobil\")\n",
    "  elif answer == 1:\n",
    "    print(\"Predicted: motor\")\n",
    "\n",
    "  return answer"
   ]
  },
  {
   "cell_type": "code",
   "execution_count": 14,
   "metadata": {},
   "outputs": [
    {
     "name": "stdout",
     "output_type": "stream",
     "text": [
      "data/test_image/mobil_1.jpg\n",
      "1/1 [==============================] - 0s 239ms/step\n",
      "Predicted: mobil\n",
      " \n",
      "data/test_image/mobil_2.jpg\n",
      "1/1 [==============================] - 0s 39ms/step\n",
      "Predicted: mobil\n",
      " \n",
      "data/test_image/mobil_3.jpg\n",
      "1/1 [==============================] - 0s 38ms/step\n",
      "Predicted: mobil\n",
      " \n",
      "data/test_image/mobil_4.jpg\n",
      "1/1 [==============================] - 0s 36ms/step\n",
      "Predicted: mobil\n",
      " \n",
      "data/test_image/mobil_5.jpg\n",
      "1/1 [==============================] - 0s 32ms/step\n",
      "Predicted: mobil\n",
      " \n",
      "data/test_image/motor_1.jpg\n",
      "1/1 [==============================] - 0s 42ms/step\n",
      "Predicted: mobil\n",
      " \n",
      "data/test_image/motor_2.jpg\n",
      "1/1 [==============================] - 0s 77ms/step\n",
      "Predicted: mobil\n",
      " \n",
      "data/test_image/motor_3.jpg\n",
      "1/1 [==============================] - 0s 31ms/step\n",
      "Predicted: mobil\n",
      " \n",
      "data/test_image/motor_4.jpg\n",
      "1/1 [==============================] - 0s 67ms/step\n",
      "Predicted: motor\n",
      " \n",
      "data/test_image/motor_5.jpg\n",
      "1/1 [==============================] - 0s 36ms/step\n",
      "Predicted: mobil\n",
      " \n"
     ]
    }
   ],
   "source": [
    "#Walk the directory for every image\n",
    "for i, ret in enumerate(os.walk(test_path)):\n",
    "  for i, filename in enumerate(ret[2]):\n",
    "    if filename.startswith(\".\"):\n",
    "      continue\n",
    "    \n",
    "    print(ret[0] + '/' + filename)\n",
    "    result = predict(ret[0] + '/' + filename)\n",
    "    print(\" \")"
   ]
  },
  {
   "cell_type": "code",
   "execution_count": 16,
   "metadata": {},
   "outputs": [
    {
     "name": "stdout",
     "output_type": "stream",
     "text": [
      "Execution Time: 2.272812906901042 minutes\n"
     ]
    }
   ],
   "source": [
    "#Calculate execution time\n",
    "end = time.time()\n",
    "dur = end-start\n",
    "\n",
    "if dur<60:\n",
    "    print(\"Execution Time:\",dur,\"seconds\")\n",
    "elif dur>60 and dur<3600:\n",
    "    dur=dur/60\n",
    "    print(\"Execution Time:\",dur,\"minutes\")\n",
    "else:\n",
    "    dur=dur/(60*60)\n",
    "    print(\"Execution Time:\",dur,\"hours\")"
   ]
  }
 ],
 "metadata": {
  "kernelspec": {
   "display_name": "base",
   "language": "python",
   "name": "python3"
  },
  "language_info": {
   "codemirror_mode": {
    "name": "ipython",
    "version": 3
   },
   "file_extension": ".py",
   "mimetype": "text/x-python",
   "name": "python",
   "nbconvert_exporter": "python",
   "pygments_lexer": "ipython3",
   "version": "3.9.13"
  },
  "orig_nbformat": 4,
  "vscode": {
   "interpreter": {
    "hash": "ad2bdc8ecc057115af97d19610ffacc2b4e99fae6737bb82f5d7fb13d2f2c186"
   }
  }
 },
 "nbformat": 4,
 "nbformat_minor": 2
}
